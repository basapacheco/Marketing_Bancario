{
 "cells": [
  {
   "cell_type": "markdown",
   "id": "623ba73b-c007-47f1-a7c8-ba2503df81ff",
   "metadata": {
    "tags": []
   },
   "source": [
    "# Importar"
   ]
  },
  {
   "cell_type": "code",
   "execution_count": 1,
   "id": "f7d7faed-5152-4472-84c6-c4629ad46cd4",
   "metadata": {
    "tags": []
   },
   "outputs": [],
   "source": [
    "import pandas as pd\n",
    "import matplotlib.pyplot as plt\n",
    "import seaborn as sns\n",
    "import os"
   ]
  },
  {
   "cell_type": "markdown",
   "id": "94de80fc-e94b-4175-9445-4dcb45148281",
   "metadata": {
    "tags": []
   },
   "source": [
    "# Datos"
   ]
  },
  {
   "cell_type": "code",
   "execution_count": 2,
   "id": "fe49c3c6-18e8-4695-83fd-89d3ae582406",
   "metadata": {
    "tags": []
   },
   "outputs": [],
   "source": [
    "# Cargar los datos\n",
    "df = pd.read_csv('../Data/dataset_clusterizado.csv')"
   ]
  },
  {
   "cell_type": "code",
   "execution_count": 3,
   "id": "0e772255-41c6-4632-a4e3-c648940db8b5",
   "metadata": {
    "tags": []
   },
   "outputs": [
    {
     "name": "stdout",
     "output_type": "stream",
     "text": [
      "<class 'pandas.core.frame.DataFrame'>\n",
      "RangeIndex: 11162 entries, 0 to 11161\n",
      "Data columns (total 45 columns):\n",
      " #   Column               Non-Null Count  Dtype \n",
      "---  ------               --------------  ----- \n",
      " 0   age                  11162 non-null  int64 \n",
      " 1   balance              11162 non-null  int64 \n",
      " 2   campaign             11162 non-null  int64 \n",
      " 3   day                  11162 non-null  int64 \n",
      " 4   deposit              11162 non-null  object\n",
      " 5   duration             11162 non-null  int64 \n",
      " 6   pdays                11162 non-null  int64 \n",
      " 7   previous             11162 non-null  int64 \n",
      " 8   job_blue-collar      11162 non-null  int64 \n",
      " 9   job_entrepreneur     11162 non-null  int64 \n",
      " 10  job_housemaid        11162 non-null  int64 \n",
      " 11  job_management       11162 non-null  int64 \n",
      " 12  job_retired          11162 non-null  int64 \n",
      " 13  job_self-employed    11162 non-null  int64 \n",
      " 14  job_services         11162 non-null  int64 \n",
      " 15  job_student          11162 non-null  int64 \n",
      " 16  job_technician       11162 non-null  int64 \n",
      " 17  job_unemployed       11162 non-null  int64 \n",
      " 18  job_unknown          11162 non-null  int64 \n",
      " 19  marital_married      11162 non-null  int64 \n",
      " 20  marital_single       11162 non-null  int64 \n",
      " 21  education_secondary  11162 non-null  int64 \n",
      " 22  education_tertiary   11162 non-null  int64 \n",
      " 23  education_unknown    11162 non-null  int64 \n",
      " 24  default_yes          11162 non-null  int64 \n",
      " 25  housing_yes          11162 non-null  int64 \n",
      " 26  loan_yes             11162 non-null  int64 \n",
      " 27  contact_telephone    11162 non-null  int64 \n",
      " 28  contact_unknown      11162 non-null  int64 \n",
      " 29  month_aug            11162 non-null  int64 \n",
      " 30  month_dec            11162 non-null  int64 \n",
      " 31  month_feb            11162 non-null  int64 \n",
      " 32  month_jan            11162 non-null  int64 \n",
      " 33  month_jul            11162 non-null  int64 \n",
      " 34  month_jun            11162 non-null  int64 \n",
      " 35  month_mar            11162 non-null  int64 \n",
      " 36  month_may            11162 non-null  int64 \n",
      " 37  month_nov            11162 non-null  int64 \n",
      " 38  month_oct            11162 non-null  int64 \n",
      " 39  month_sep            11162 non-null  int64 \n",
      " 40  poutcome_other       11162 non-null  int64 \n",
      " 41  poutcome_success     11162 non-null  int64 \n",
      " 42  poutcome_unknown     11162 non-null  int64 \n",
      " 43  client               11162 non-null  object\n",
      " 44  Cluster              11162 non-null  int64 \n",
      "dtypes: int64(43), object(2)\n",
      "memory usage: 3.8+ MB\n"
     ]
    }
   ],
   "source": [
    "df.info()"
   ]
  },
  {
   "cell_type": "code",
   "execution_count": 4,
   "id": "8d843830-6bbc-4666-9823-15e374dcb30e",
   "metadata": {
    "tags": []
   },
   "outputs": [
    {
     "data": {
      "text/html": [
       "<div>\n",
       "<style scoped>\n",
       "    .dataframe tbody tr th:only-of-type {\n",
       "        vertical-align: middle;\n",
       "    }\n",
       "\n",
       "    .dataframe tbody tr th {\n",
       "        vertical-align: top;\n",
       "    }\n",
       "\n",
       "    .dataframe thead th {\n",
       "        text-align: right;\n",
       "    }\n",
       "</style>\n",
       "<table border=\"1\" class=\"dataframe\">\n",
       "  <thead>\n",
       "    <tr style=\"text-align: right;\">\n",
       "      <th></th>\n",
       "      <th>age</th>\n",
       "      <th>balance</th>\n",
       "      <th>campaign</th>\n",
       "      <th>day</th>\n",
       "      <th>deposit</th>\n",
       "      <th>duration</th>\n",
       "      <th>pdays</th>\n",
       "      <th>previous</th>\n",
       "      <th>job_blue-collar</th>\n",
       "      <th>job_entrepreneur</th>\n",
       "      <th>...</th>\n",
       "      <th>month_mar</th>\n",
       "      <th>month_may</th>\n",
       "      <th>month_nov</th>\n",
       "      <th>month_oct</th>\n",
       "      <th>month_sep</th>\n",
       "      <th>poutcome_other</th>\n",
       "      <th>poutcome_success</th>\n",
       "      <th>poutcome_unknown</th>\n",
       "      <th>client</th>\n",
       "      <th>Cluster</th>\n",
       "    </tr>\n",
       "  </thead>\n",
       "  <tbody>\n",
       "    <tr>\n",
       "      <th>0</th>\n",
       "      <td>59</td>\n",
       "      <td>2343</td>\n",
       "      <td>1</td>\n",
       "      <td>5</td>\n",
       "      <td>yes</td>\n",
       "      <td>1042</td>\n",
       "      <td>-1</td>\n",
       "      <td>0</td>\n",
       "      <td>0</td>\n",
       "      <td>0</td>\n",
       "      <td>...</td>\n",
       "      <td>0</td>\n",
       "      <td>1</td>\n",
       "      <td>0</td>\n",
       "      <td>0</td>\n",
       "      <td>0</td>\n",
       "      <td>0</td>\n",
       "      <td>0</td>\n",
       "      <td>1</td>\n",
       "      <td>Client1</td>\n",
       "      <td>1</td>\n",
       "    </tr>\n",
       "  </tbody>\n",
       "</table>\n",
       "<p>1 rows × 45 columns</p>\n",
       "</div>"
      ],
      "text/plain": [
       "   age  balance  campaign  day deposit  duration  pdays  previous  \\\n",
       "0   59     2343         1    5     yes      1042     -1         0   \n",
       "\n",
       "   job_blue-collar  job_entrepreneur  ...  month_mar  month_may  month_nov  \\\n",
       "0                0                 0  ...          0          1          0   \n",
       "\n",
       "   month_oct  month_sep  poutcome_other  poutcome_success  poutcome_unknown  \\\n",
       "0          0          0               0                 0                 1   \n",
       "\n",
       "    client  Cluster  \n",
       "0  Client1        1  \n",
       "\n",
       "[1 rows x 45 columns]"
      ]
     },
     "execution_count": 4,
     "metadata": {},
     "output_type": "execute_result"
    }
   ],
   "source": [
    "df.head(1)"
   ]
  },
  {
   "cell_type": "markdown",
   "id": "7761fc94-5b65-4317-810a-397c1d17c384",
   "metadata": {},
   "source": [
    "# Insights"
   ]
  },
  {
   "cell_type": "markdown",
   "id": "16a798b4-9be5-42ee-808a-ff6fd388020f",
   "metadata": {},
   "source": [
    "Derivar Insights sobre la efectividad de la campaña:"
   ]
  },
  {
   "cell_type": "code",
   "execution_count": 5,
   "id": "d846a4aa-7f95-4ed5-84b5-62163c1a40a6",
   "metadata": {
    "tags": []
   },
   "outputs": [
    {
     "name": "stdout",
     "output_type": "stream",
     "text": [
      "Insight: Tasa de Suscripción Global\n",
      "Porcentaje de clientes suscritos: 47.38%\n",
      "Porcentaje de clientes no suscritos: 52.62%\n"
     ]
    }
   ],
   "source": [
    "# Título del Insight\n",
    "print(\"Insight: Tasa de Suscripción Global\")\n",
    "\n",
    "# Calcular el total de clientes suscritos y no suscritos\n",
    "total_suscritos = df['deposit'].value_counts()['yes']\n",
    "total_no_suscritos = df['deposit'].value_counts()['no']\n",
    "\n",
    "# Calcular el porcentaje de clientes suscritos y no suscritos\n",
    "porcentaje_suscritos = (total_suscritos / len(df)) * 100\n",
    "porcentaje_no_suscritos = (total_no_suscritos / len(df)) * 100\n",
    "\n",
    "# Imprimir resultados\n",
    "print(f\"Porcentaje de clientes suscritos: {porcentaje_suscritos:.2f}%\")\n",
    "print(f\"Porcentaje de clientes no suscritos: {porcentaje_no_suscritos:.2f}%\")\n"
   ]
  },
  {
   "cell_type": "code",
   "execution_count": 6,
   "id": "80a6e9e6-8cf2-47b9-8234-be209684deab",
   "metadata": {
    "tags": []
   },
   "outputs": [
    {
     "name": "stdout",
     "output_type": "stream",
     "text": [
      "Insight: Distribución por Edad\n"
     ]
    },
    {
     "data": {
      "image/png": "[encoded data removed]",
      "text/plain": [
       "<Figure size 1000x600 with 1 Axes>"
      ]
     },
     "metadata": {},
     "output_type": "display_data"
    }
   ],
   "source": [
    "# Título del Insight\n",
    "print(\"Insight: Distribución por Edad\")\n",
    "\n",
    "# Crear subconjuntos de datos para clientes suscritos y no suscritos\n",
    "clientes_suscritos = df[df['deposit'] == 'yes']\n",
    "clientes_no_suscritos = df[df['deposit'] == 'no']\n",
    "\n",
    "# Crear histogramas de distribución de edades\n",
    "plt.figure(figsize=(10, 6))\n",
    "plt.hist(clientes_suscritos['age'], bins=20, alpha=0.5, color='blue', label='Suscritos')\n",
    "plt.hist(clientes_no_suscritos['age'], bins=20, alpha=0.5, color='red', label='No Suscritos')\n",
    "plt.title('Distribución de Edades de Clientes Suscritos y No Suscritos')\n",
    "plt.xlabel('Edad')\n",
    "plt.ylabel('Frecuencia')\n",
    "plt.legend()\n",
    "plt.show()\n"
   ]
  },
  {
   "cell_type": "markdown",
   "id": "5e4a1ac3-aa28-479b-8475-6ca8f58ca6a1",
   "metadata": {},
   "source": [
    "\n"
   ]
  },
  {
   "cell_type": "code",
   "execution_count": 7,
   "id": "446913fa-4da0-4586-baed-6fd9b987a330",
   "metadata": {
    "tags": []
   },
   "outputs": [
    {
     "name": "stdout",
     "output_type": "stream",
     "text": [
      "Insight: Saldo Promedio\n",
      "Saldo Promedio de Clientes Suscritos: 1804.2679145396105\n",
      "Saldo Promedio de Clientes No Suscritos: 1280.2271411544355\n"
     ]
    }
   ],
   "source": [
    "# Título del Insight\n",
    "print(\"Insight: Saldo Promedio\")\n",
    "\n",
    "# Calcular el saldo promedio de clientes suscritos y no suscritos\n",
    "saldo_promedio_suscritos = clientes_suscritos['balance'].mean()\n",
    "saldo_promedio_no_suscritos = clientes_no_suscritos['balance'].mean()\n",
    "\n",
    "# Mostrar los resultados\n",
    "print(f\"Saldo Promedio de Clientes Suscritos: {saldo_promedio_suscritos}\")\n",
    "print(f\"Saldo Promedio de Clientes No Suscritos: {saldo_promedio_no_suscritos}\")\n"
   ]
  },
  {
   "cell_type": "code",
   "execution_count": 8,
   "id": "986e7767-4250-4058-b4ab-8a2ce63be6d9",
   "metadata": {
    "tags": []
   },
   "outputs": [
    {
     "name": "stdout",
     "output_type": "stream",
     "text": [
      "Insight: Duración del Contacto\n",
      "Duración Promedio de Contacto para Clientes Suscritos: 537.2945736434109\n",
      "Duración Promedio de Contacto para Clientes No Suscritos: 223.130257108803\n"
     ]
    }
   ],
   "source": [
    "# Título del Insight\n",
    "print(\"Insight: Duración del Contacto\")\n",
    "\n",
    "# Calcular la duración promedio de las llamadas para clientes suscritos y no suscritos\n",
    "duracion_promedio_suscritos = clientes_suscritos['duration'].mean()\n",
    "duracion_promedio_no_suscritos = clientes_no_suscritos['duration'].mean()\n",
    "\n",
    "# Mostrar los resultados\n",
    "print(f\"Duración Promedio de Contacto para Clientes Suscritos: {duracion_promedio_suscritos}\")\n",
    "print(f\"Duración Promedio de Contacto para Clientes No Suscritos: {duracion_promedio_no_suscritos}\")\n",
    "\n"
   ]
  },
  {
   "cell_type": "code",
   "execution_count": 9,
   "id": "92227517-ea9d-4db8-80af-fc25eab7ecd0",
   "metadata": {
    "tags": []
   },
   "outputs": [
    {
     "name": "stdout",
     "output_type": "stream",
     "text": [
      "Insight: Mes del Contacto\n",
      "Número total de suscripciones por mes:\n",
      "Aug: 688\n",
      "Dec: 100\n",
      "Feb: 441\n",
      "Jan: 142\n",
      "Jul: 627\n",
      "Jun: 546\n",
      "Mar: 248\n",
      "May: 925\n",
      "Nov: 403\n",
      "Oct: 323\n",
      "Sep: 269\n",
      "\n",
      "Mes con el mayor número de suscripciones: May (925 suscripciones)\n",
      "Porcentaje de suscripciones sobre el total: 42.21%\n"
     ]
    }
   ],
   "source": [
    "# Título del Insight\n",
    "print(\"Insight: Mes del Contacto\")\n",
    "\n",
    "# Calcular el número total de suscripciones por mes\n",
    "suscripciones_por_mes = {}\n",
    "for column in df.columns:\n",
    "    if column.startswith('month_'):\n",
    "        mes = column.split('_')[-1].capitalize()\n",
    "        suscripciones_por_mes[mes] = df[df[column] == 1]['deposit'].eq('yes').sum()\n",
    "\n",
    "# Encontrar el mes con el mayor número de suscripciones\n",
    "mes_mas_suscripciones = max(suscripciones_por_mes, key=suscripciones_por_mes.get)\n",
    "total_suscripciones = sum(suscripciones_por_mes.values())\n",
    "\n",
    "# Mostrar los resultados\n",
    "print(\"Número total de suscripciones por mes:\")\n",
    "for mes, suscripciones in suscripciones_por_mes.items():\n",
    "    print(f\"{mes}: {suscripciones}\")\n",
    "\n",
    "print(f\"\\nMes con el mayor número de suscripciones: {mes_mas_suscripciones} ({suscripciones_por_mes[mes_mas_suscripciones]} suscripciones)\")\n",
    "print(f\"Porcentaje de suscripciones sobre el total: {total_suscripciones / len(df) * 100:.2f}%\")\n",
    "\n",
    "\n"
   ]
  },
  {
   "cell_type": "code",
   "execution_count": 10,
   "id": "bc0481da-d1a7-4666-b62d-6fa4c7517fa8",
   "metadata": {
    "tags": []
   },
   "outputs": [
    {
     "name": "stdout",
     "output_type": "stream",
     "text": [
      "client\n",
      "Client1        1\n",
      "Client7445     1\n",
      "Client7437     1\n",
      "Client7438     1\n",
      "Client7439     1\n",
      "              ..\n",
      "Client3723     1\n",
      "Client3724     1\n",
      "Client3725     1\n",
      "Client3726     1\n",
      "Client11162    1\n",
      "Name: count, Length: 11162, dtype: int64\n"
     ]
    }
   ],
   "source": [
    "print(df['client'].value_counts())\n"
   ]
  },
  {
   "cell_type": "code",
   "execution_count": 11,
   "id": "5d5b8296-a61f-4487-8a94-28b61e5883cd",
   "metadata": {
    "tags": []
   },
   "outputs": [
    {
     "name": "stdout",
     "output_type": "stream",
     "text": [
      "Insight: Ocupación del Cliente\n",
      "client       deposit\n",
      "Client1      yes        100.0\n",
      "Client10     yes        100.0\n",
      "Client100    yes        100.0\n",
      "Client1000   yes        100.0\n",
      "Client10000  no         100.0\n",
      "                        ...  \n",
      "Client9995   no         100.0\n",
      "Client9996   no         100.0\n",
      "Client9997   no         100.0\n",
      "Client9998   no         100.0\n",
      "Client9999   no         100.0\n",
      "Name: proportion, Length: 11162, dtype: float64\n"
     ]
    }
   ],
   "source": [
    "# Título del Insight\n",
    "print(\"Insight: Ocupación del Cliente\")\n",
    "\n",
    "# Calcular la proporción de clientes suscritos y no suscritos según su ocupación\n",
    "proporcion_por_ocupacion = df.groupby('client')['deposit'].value_counts(normalize=True) * 100\n",
    "\n",
    "# Mostrar los resultados\n",
    "print(proporcion_por_ocupacion)\n",
    "\n"
   ]
  },
  {
   "cell_type": "code",
   "execution_count": 12,
   "id": "c60fe8d5-3a1f-4195-8bce-dc98a1699c4e",
   "metadata": {
    "tags": []
   },
   "outputs": [
    {
     "name": "stdout",
     "output_type": "stream",
     "text": [
      "Insight: Resultado de la Campaña Anterior\n",
      "poutcome_success  deposit\n",
      "0                 no         57.278763\n",
      "                  yes        42.721237\n",
      "1                 yes        91.316527\n",
      "                  no          8.683473\n",
      "Name: proportion, dtype: float64\n"
     ]
    }
   ],
   "source": [
    "# Título del Insight\n",
    "print(\"Insight: Resultado de la Campaña Anterior\")\n",
    "\n",
    "# Calcular la proporción de clientes suscritos y no suscritos según el resultado de la campaña anterior\n",
    "proporcion_por_resultado_anterior = df.groupby('poutcome_success')['deposit'].value_counts(normalize=True) * 100\n",
    "\n",
    "# Mostrar los resultados\n",
    "print(proporcion_por_resultado_anterior)\n",
    "\n"
   ]
  },
  {
   "cell_type": "code",
   "execution_count": 13,
   "id": "4133b314-67f8-452e-b609-743acae795c8",
   "metadata": {
    "tags": []
   },
   "outputs": [
    {
     "name": "stdout",
     "output_type": "stream",
     "text": [
      "Insight: Número de Contactos Previos\n",
      "deposit\n",
      "no     0.528350\n",
      "yes    1.170354\n",
      "Name: previous, dtype: float64\n",
      "Media de contactos previos para clientes no suscritos: 0.5283500766218288\n",
      "Media de contactos previos para clientes suscritos: 1.1703535640007563\n"
     ]
    }
   ],
   "source": [
    "# Título del Insight\n",
    "print(\"Insight: Número de Contactos Previos\")\n",
    "\n",
    "# Calcular la media de contactos previos para clientes suscritos y no suscritos\n",
    "media_contactos_previos = df.groupby('deposit')['previous'].mean()\n",
    "\n",
    "# Mostrar los resultados\n",
    "print(media_contactos_previos)\n",
    "\n",
    "# Extraer las medias de contactos previos para clientes suscritos y no suscritos\n",
    "media_contactos_previos_no = media_contactos_previos['no']\n",
    "media_contactos_previos_yes = media_contactos_previos['yes']\n",
    "\n",
    "# Imprimir los valores de las medias de contactos previos\n",
    "print(\"Media de contactos previos para clientes no suscritos:\", media_contactos_previos_no)\n",
    "print(\"Media de contactos previos para clientes suscritos:\", media_contactos_previos_yes)\n",
    "\n"
   ]
  },
  {
   "cell_type": "code",
   "execution_count": 14,
   "id": "3eff2e45-81ec-4aaf-b88d-576de494c884",
   "metadata": {
    "tags": []
   },
   "outputs": [
    {
     "name": "stdout",
     "output_type": "stream",
     "text": [
      "Insight: Resultado de la Última Campaña\n",
      "poutcome_other  deposit\n",
      "0               no         53.110588\n",
      "                yes        46.889412\n",
      "1               yes        57.169460\n",
      "                no         42.830540\n",
      "Name: proportion, dtype: float64\n"
     ]
    }
   ],
   "source": [
    "# Título del Insight\n",
    "print(\"Insight: Resultado de la Última Campaña\")\n",
    "\n",
    "# Calcular la proporción de clientes suscritos y no suscritos según el resultado de la última campaña\n",
    "proporcion_por_resultado_ultima_campaña = df.groupby('poutcome_other')['deposit'].value_counts(normalize=True) * 100\n",
    "\n",
    "# Mostrar los resultados\n",
    "print(proporcion_por_resultado_ultima_campaña)\n",
    "\n",
    "\n"
   ]
  },
  {
   "cell_type": "code",
   "execution_count": 15,
   "id": "69073149-bca4-4b6a-934e-5024a8d9f9c2",
   "metadata": {
    "tags": []
   },
   "outputs": [
    {
     "name": "stdout",
     "output_type": "stream",
     "text": [
      "Insight: Impacto del Tipo de Contacto\n",
      "contact_telephone  deposit\n",
      "0                  no         52.839815\n",
      "                   yes        47.160185\n",
      "1                  yes        50.387597\n",
      "                   no         49.612403\n",
      "Name: proportion, dtype: float64\n"
     ]
    }
   ],
   "source": [
    "# Título del Insight\n",
    "print(\"Insight: Impacto del Tipo de Contacto\")\n",
    "\n",
    "# Calcular la proporción de clientes suscritos y no suscritos según el tipo de contacto\n",
    "proporcion_por_tipo_contacto = df.groupby('contact_telephone')['deposit'].value_counts(normalize=True) * 100\n",
    "\n",
    "# Mostrar los resultados\n",
    "print(proporcion_por_tipo_contacto)\n",
    "\n",
    "\n"
   ]
  },
  {
   "cell_type": "code",
   "execution_count": 16,
   "id": "e4dbcf93-4143-43f2-a3a1-66a7132a5dd6",
   "metadata": {
    "tags": []
   },
   "outputs": [
    {
     "name": "stdout",
     "output_type": "stream",
     "text": [
      "Recomendaciones de Estrategias de Marketing:\n",
      "#1: Enfocar los esfuerzos de marketing en segmentos de clientes con saldos más altos, ya que parecen tener una mayor propensión a suscribirse.\n",
      "#2: Procurar mantener una duración de contacto más larga con los clientes durante las interacciones de marketing para mejorar las tasas de suscripción.\n",
      "#3: Concentrar los esfuerzos de marketing en el mes de May, ya que ha demostrado ser el más efectivo en términos de suscripciones.\n",
      "#4: Identificar las deficiencias de la campaña anterior y abordarlas en las próximas campañas para mejorar la efectividad.\n",
      "#5: Considerar mejorar la estrategia para los clientes que no se suscribieron en la última campaña.\n",
      "#6: Priorizar el contacto telefónico en las estrategias de marketing, ya que parece ser más efectivo para obtener suscripciones.\n"
     ]
    }
   ],
   "source": [
    "# Convertir el diccionario de suscripciones por mes en una Serie de pandas\n",
    "suscripciones_por_mes_series = pd.Series(suscripciones_por_mes)\n",
    "\n",
    "# Verificar si la Serie no está vacía antes de llamar a idxmax()\n",
    "if not suscripciones_por_mes_series.empty:\n",
    "    # Encontrar el mes con el mayor número de suscripciones\n",
    "    mes_mayor_suscripciones = suscripciones_por_mes_series.idxmax()\n",
    "    strategy3 = f\"Concentrar los esfuerzos de marketing en el mes de {mes_mayor_suscripciones}, ya que ha demostrado ser el más efectivo en términos de suscripciones.\"\n",
    "else:\n",
    "    strategy3 = \"No hay suficientes datos para determinar el mes más efectivo en términos de suscripciones.\"\n",
    "\n",
    "# Estrategias para mejorar la efectividad de la campaña en general\n",
    "\n",
    "# Estrategias basadas en el saldo promedio\n",
    "if saldo_promedio_suscritos > saldo_promedio_no_suscritos:\n",
    "    strategy1 = \"Enfocar los esfuerzos de marketing en segmentos de clientes con saldos más altos, ya que parecen tener una mayor propensión a suscribirse.\"\n",
    "else:\n",
    "    strategy1 = \"Ofrecer incentivos especiales o promociones para clientes con saldos bajos para aumentar su disposición a suscribirse.\"\n",
    "\n",
    "# Estrategias basadas en la duración del contacto\n",
    "if duracion_promedio_suscritos > duracion_promedio_no_suscritos:\n",
    "    strategy2 = \"Procurar mantener una duración de contacto más larga con los clientes durante las interacciones de marketing para mejorar las tasas de suscripción.\"\n",
    "else:\n",
    "    strategy2 = \"Optimizar la eficiencia de las llamadas o contactos para maximizar la efectividad de la campaña.\"\n",
    "\n",
    "# Estrategias basadas en el resultado de la campaña anterior\n",
    "try:\n",
    "    success_yes = proporcion_por_resultado_anterior.loc[('1', 'yes')]\n",
    "except KeyError:\n",
    "    success_yes = 0  # Establecer a 0 si no hay datos disponibles para '1', 'yes'\n",
    "\n",
    "try:\n",
    "    success_no = proporcion_por_resultado_anterior.loc[('1', 'no')]\n",
    "except KeyError:\n",
    "    success_no = 0  # Establecer a 0 si no hay datos disponibles para '1', 'no'\n",
    "\n",
    "if success_yes > success_no:\n",
    "    strategy4 = \"Capitalizar el éxito de la campaña anterior destacando las ventajas y beneficios de suscribirse en futuras campañas.\"\n",
    "else:\n",
    "    strategy4 = \"Identificar las deficiencias de la campaña anterior y abordarlas en las próximas campañas para mejorar la efectividad.\"\n",
    "\n",
    "# Estrategias basadas en el resultado de la última campaña\n",
    "if proporcion_por_resultado_ultima_campaña.loc[(0, 'yes')] > proporcion_por_resultado_ultima_campaña.loc[(0, 'no')]:\n",
    "    strategy5 = \"Utilizar el éxito de la última campaña como punto de partida para construir relaciones más sólidas con los clientes potenciales.\"\n",
    "else:\n",
    "    strategy5 = \"Considerar mejorar la estrategia para los clientes que no se suscribieron en la última campaña.\"\n",
    "\n",
    "# Estrategias basadas en el tipo de contacto\n",
    "if proporcion_por_tipo_contacto.loc[1, 'yes'] > proporcion_por_tipo_contacto.loc[1, 'no']:\n",
    "    strategy6 = \"Priorizar el contacto telefónico en las estrategias de marketing, ya que parece ser más efectivo para obtener suscripciones.\"\n",
    "else:\n",
    "    strategy6 = \"Explorar otras formas de contacto, como el correo electrónico o el contacto personal, para diversificar las estrategias de marketing y aumentar la efectividad.\"\n",
    "   \n",
    "\n",
    "# Combinar todas las estrategias en una lista\n",
    "marketing_strategies_recommendations = [\n",
    "    strategy1,\n",
    "    strategy2,\n",
    "    strategy3,\n",
    "    strategy4,\n",
    "    strategy5,\n",
    "    strategy6\n",
    "]\n",
    "\n",
    "# Imprimir las estrategias recomendadas\n",
    "print(\"Recomendaciones de Estrategias de Marketing:\")\n",
    "for i, strategy in enumerate(marketing_strategies_recommendations, start=1):\n",
    "    print(f\"#{i}: {strategy}\")\n",
    "\n"
   ]
  },
  {
   "cell_type": "code",
   "execution_count": 17,
   "id": "64025ab5-d0ff-4179-9c19-bb06921c7bee",
   "metadata": {
    "tags": []
   },
   "outputs": [
    {
     "name": "stdout",
     "output_type": "stream",
     "text": [
      "Recomendaciones para la categoría 'deposit' = no:\n",
      "- Los clientes pueden estar preocupados por el riesgo financiero asociado con el depósito.\n",
      "- Podría haber falta de conciencia sobre los beneficios del depósito a plazo.\n",
      "- Algunos clientes pueden preferir opciones de inversión alternativas.\n",
      "- Es importante investigar y comprender las necesidades y preferencias de los clientes con ocupaciones desconocidas (70 casos).\n"
     ]
    }
   ],
   "source": [
    "# Recomendar estrategias de marketing para mejorar las tasas de suscripción para la categoría \"deposit\" = no\n",
    "no_marketing_strategies_recommendations = []\n",
    "\n",
    "# Verificar si hay clientes con 'deposit' = 'no'\n",
    "if 'no' in df['deposit'].unique():\n",
    "    # Insight 1: Razones comunes para no suscribirse\n",
    "    common_reasons = [\n",
    "        'Los clientes pueden estar preocupados por el riesgo financiero asociado con el depósito.',\n",
    "        'Podría haber falta de conciencia sobre los beneficios del depósito a plazo.',\n",
    "        'Algunos clientes pueden preferir opciones de inversión alternativas.'\n",
    "    ]\n",
    "    no_marketing_strategies_recommendations.extend(common_reasons)\n",
    "\n",
    "    # Insight 2: Análisis de ocupación\n",
    "    if 'job_unknown' in df.columns:\n",
    "        unknown_occupation_count = df[df['job_unknown'] == 1].shape[0]\n",
    "        if unknown_occupation_count > 0:\n",
    "            no_marketing_strategies_recommendations.append(f'Es importante investigar y comprender las necesidades y preferencias de los clientes con ocupaciones desconocidas ({unknown_occupation_count} casos).')\n",
    "\n",
    "\n",
    "# Imprimir las recomendaciones\n",
    "print(\"Recomendaciones para la categoría 'deposit' = no:\")\n",
    "for recommendation in no_marketing_strategies_recommendations:\n",
    "    print(f\"- {recommendation}\")\n",
    "\n",
    "\n"
   ]
  },
  {
   "cell_type": "code",
   "execution_count": 18,
   "id": "4e03e7ee-890d-40a8-bc8b-5d1860ef57b9",
   "metadata": {
    "tags": []
   },
   "outputs": [
    {
     "name": "stdout",
     "output_type": "stream",
     "text": [
      "   age  balance  campaign  day deposit  duration  pdays  previous  \\\n",
      "0   59     2343         1    5     yes      1042     -1         0   \n",
      "1   56       45         1    5     yes      1467     -1         0   \n",
      "2   41     1270         1    5     yes      1389     -1         0   \n",
      "3   55     2476         1    5     yes       579     -1         0   \n",
      "4   54      184         2    5     yes       673     -1         0   \n",
      "\n",
      "   job_blue-collar  job_entrepreneur  ...  month_mar  month_may  month_nov  \\\n",
      "0                0                 0  ...          0          1          0   \n",
      "1                0                 0  ...          0          1          0   \n",
      "2                0                 0  ...          0          1          0   \n",
      "3                0                 0  ...          0          1          0   \n",
      "4                0                 0  ...          0          1          0   \n",
      "\n",
      "   month_oct  month_sep  poutcome_other  poutcome_success  poutcome_unknown  \\\n",
      "0          0          0               0                 0                 1   \n",
      "1          0          0               0                 0                 1   \n",
      "2          0          0               0                 0                 1   \n",
      "3          0          0               0                 0                 1   \n",
      "4          0          0               0                 0                 1   \n",
      "\n",
      "    client  Cluster  \n",
      "0  Client1        1  \n",
      "1  Client2        1  \n",
      "2  Client3        1  \n",
      "3  Client4        1  \n",
      "4  Client5        1  \n",
      "\n",
      "[5 rows x 45 columns]\n"
     ]
    }
   ],
   "source": [
    "# Mostrar una vista previa de los datos\n",
    "print(df.head())"
   ]
  },
  {
   "cell_type": "markdown",
   "id": "1d5d60c5-0e3c-4aa1-a8e3-a4bf0c72c324",
   "metadata": {},
   "source": [
    "## Exportar Datos"
   ]
  },
  {
   "cell_type": "code",
   "execution_count": 19,
   "id": "db284382-0dfa-4060-bd5a-ec5fc764a490",
   "metadata": {
    "tags": []
   },
   "outputs": [
    {
     "name": "stdout",
     "output_type": "stream",
     "text": [
      "Vista previa de los datos existentes:\n",
      "   age  balance  campaign  day deposit  duration  pdays  previous  \\\n",
      "0   59     2343         1    5     yes      1042     -1         0   \n",
      "1   56       45         1    5     yes      1467     -1         0   \n",
      "2   41     1270         1    5     yes      1389     -1         0   \n",
      "3   55     2476         1    5     yes       579     -1         0   \n",
      "4   54      184         2    5     yes       673     -1         0   \n",
      "\n",
      "   job_blue-collar  job_entrepreneur  ...  month_mar  month_may  month_nov  \\\n",
      "0                0                 0  ...          0          1          0   \n",
      "1                0                 0  ...          0          1          0   \n",
      "2                0                 0  ...          0          1          0   \n",
      "3                0                 0  ...          0          1          0   \n",
      "4                0                 0  ...          0          1          0   \n",
      "\n",
      "   month_oct  month_sep  poutcome_other  poutcome_success  poutcome_unknown  \\\n",
      "0          0          0               0                 0                 1   \n",
      "1          0          0               0                 0                 1   \n",
      "2          0          0               0                 0                 1   \n",
      "3          0          0               0                 0                 1   \n",
      "4          0          0               0                 0                 1   \n",
      "\n",
      "    client  Cluster  \n",
      "0  Client1        1  \n",
      "1  Client2        1  \n",
      "2  Client3        1  \n",
      "3  Client4        1  \n",
      "4  Client5        1  \n",
      "\n",
      "[5 rows x 45 columns]\n",
      "El archivo datos_para_visualizacion.csv se ha guardado correctamente.\n"
     ]
    }
   ],
   "source": [
    "# Comprobar si existe un archivo datos_para_visualizacion_old.csv y eliminarlo si existe\n",
    "old_csv_path = '../Data/datos_para_visualizacion_old.csv'\n",
    "if os.path.exists(old_csv_path):\n",
    "    os.remove(old_csv_path)\n",
    "\n",
    "# Comprobar si existe un archivo datos_para_visualizacion.csv y cargarlo si existe\n",
    "csv_path = '../Data/datos_para_visualizacion.csv'\n",
    "if os.path.exists(csv_path):\n",
    "    # Cargar el archivo CSV\n",
    "    df_old = pd.read_csv(csv_path)\n",
    "    # Guardar una vista previa del DataFrame\n",
    "    print(\"Vista previa de los datos existentes:\")\n",
    "    print(df_old.head())\n",
    "    # Cambiar el nombre del archivo existente\n",
    "    os.rename(csv_path, old_csv_path)\n",
    "\n",
    "# Suponiendo que df es tu DataFrame con los datos relevantes\n",
    "# Exportar DataFrame a un archivo CSV\n",
    "df.to_csv(csv_path, index=False)\n",
    "\n",
    "print(\"El archivo datos_para_visualizacion.csv se ha guardado correctamente.\")\n"
   ]
  }
 ],
 "metadata": {
  "kernelspec": {
   "display_name": "Python 3 (ipykernel)",
   "language": "python",
   "name": "python3"
  },
  "language_info": {
   "codemirror_mode": {
    "name": "ipython",
    "version": 3
   },
   "file_extension": ".py",
   "mimetype": "text/x-python",
   "name": "python",
   "nbconvert_exporter": "python",
   "pygments_lexer": "ipython3",
   "version": "3.11.5"
  }
 },
 "nbformat": 4,
 "nbformat_minor": 5
}
