{
 "cells": [
  {
   "cell_type": "markdown",
   "id": "74ec6df6-3f16-4e1d-b32b-ae7df7145f14",
   "metadata": {},
   "source": [
    "# Importar"
   ]
  },
  {
   "cell_type": "code",
   "execution_count": 37,
   "id": "1e487638-bcc6-4cf7-aa59-52330ebe963c",
   "metadata": {
    "tags": []
   },
   "outputs": [],
   "source": [
    "import pandas as pd\n",
    "from sklearn.model_selection import train_test_split\n",
    "from sklearn.ensemble import RandomForestClassifier\n",
    "from sklearn.impute import SimpleImputer\n",
    "import numpy as np\n",
    "from sklearn.preprocessing import OneHotEncoder\n",
    "from sklearn.model_selection import GridSearchCV\n",
    "from sklearn.model_selection import cross_val_score"
   ]
  },
  {
   "cell_type": "markdown",
   "id": "05ab3019-a653-41e2-84eb-36ac33adaa32",
   "metadata": {
    "tags": []
   },
   "source": [
    "# Datos"
   ]
  },
  {
   "cell_type": "code",
   "execution_count": 2,
   "id": "2c313614-eb42-4093-82de-47c56d03fb7f",
   "metadata": {
    "tags": []
   },
   "outputs": [],
   "source": [
    "# Cargar el dataset preparado\n",
    "df = pd.read_csv('../Data/dataset_preparado.csv')"
   ]
  },
  {
   "cell_type": "markdown",
   "id": "aca9cccf-2443-47b8-961e-7673466aca1b",
   "metadata": {},
   "source": [
    "# Preparación del modelo"
   ]
  },
  {
   "cell_type": "code",
   "execution_count": 3,
   "id": "3f52e092-59c7-4e72-9e75-7abf5502e43d",
   "metadata": {
    "tags": []
   },
   "outputs": [],
   "source": [
    "# Separar las características (X) y la variable objetivo (y)\n",
    "X = df.drop('deposit', axis=1)\n",
    "y = df['deposit']"
   ]
  },
  {
   "cell_type": "code",
   "execution_count": 4,
   "id": "210e2286-fc2e-4f93-841f-874103aeb988",
   "metadata": {
    "tags": []
   },
   "outputs": [],
   "source": [
    "# Dividir los datos en conjunto de entrenamiento y conjunto de prueba\n",
    "X_train, X_test, y_train, y_test = train_test_split(X, y, test_size=0.2, random_state=42)"
   ]
  },
  {
   "cell_type": "code",
   "execution_count": 6,
   "id": "ec7422be-480c-4be5-b1f3-11c990fa8d1d",
   "metadata": {
    "tags": []
   },
   "outputs": [],
   "source": [
    "# Definir imputador para características numéricas\n",
    "num_imputer = SimpleImputer(strategy='mean')"
   ]
  },
  {
   "cell_type": "code",
   "execution_count": 7,
   "id": "55434269-06c3-4592-9204-84604dd06b23",
   "metadata": {
    "tags": []
   },
   "outputs": [],
   "source": [
    "# Imputar características numéricas\n",
    "X_train_numeric_imputed = num_imputer.fit_transform(X_train.select_dtypes(include=['int', 'float']))\n",
    "X_test_numeric_imputed = num_imputer.transform(X_test.select_dtypes(include=['int', 'float']))"
   ]
  },
  {
   "cell_type": "code",
   "execution_count": 8,
   "id": "46a346f5-8d77-4a4d-a73f-fabe2ed1b481",
   "metadata": {
    "tags": []
   },
   "outputs": [],
   "source": [
    "# Definir imputador para características categóricas\n",
    "cat_imputer = SimpleImputer(strategy='most_frequent')"
   ]
  },
  {
   "cell_type": "code",
   "execution_count": 9,
   "id": "358a47af-94ec-40ff-af6e-2656a1eacdd0",
   "metadata": {
    "tags": []
   },
   "outputs": [],
   "source": [
    "# Imputar características categóricas\n",
    "X_train_categorical_imputed = cat_imputer.fit_transform(X_train.select_dtypes(include=['object']))\n",
    "X_test_categorical_imputed = cat_imputer.transform(X_test.select_dtypes(include=['object']))"
   ]
  },
  {
   "cell_type": "code",
   "execution_count": 11,
   "id": "1108ae20-0814-4ac7-b7dc-8e258ddc0060",
   "metadata": {
    "tags": []
   },
   "outputs": [],
   "source": [
    "# Concatenar las características numéricas y categóricas imputadas\n",
    "X_train_imputed = np.concatenate((X_train_numeric_imputed, X_train_categorical_imputed), axis=1)\n",
    "X_test_imputed = np.concatenate((X_test_numeric_imputed, X_test_categorical_imputed), axis=1)"
   ]
  },
  {
   "cell_type": "code",
   "execution_count": 17,
   "id": "64b38f61-9845-4547-a22a-0aa80edc418f",
   "metadata": {
    "tags": []
   },
   "outputs": [],
   "source": [
    "# Codificar las variables categóricas usando OneHotEncoding\n",
    "encoder = OneHotEncoder(drop='first', sparse_output=False, handle_unknown='ignore')\n",
    "X_train_encoded = encoder.fit_transform(X_train.select_dtypes(include=['object']))\n",
    "X_test_encoded = encoder.transform(X_test.select_dtypes(include=['object']))"
   ]
  },
  {
   "cell_type": "code",
   "execution_count": 58,
   "id": "902242b9-f682-4b33-9730-586b8be26f9e",
   "metadata": {
    "tags": []
   },
   "outputs": [],
   "source": [
    "from sklearn.preprocessing import OneHotEncoder\n",
    "\n",
    "# Separar las características categóricas y numéricas\n",
    "X_numeric = X.select_dtypes(include=['int', 'float'])\n",
    "X_categorical = X.select_dtypes(include=['object'])\n",
    "\n",
    "# Imputar las características categóricas\n",
    "cat_imputer = SimpleImputer(strategy='most_frequent')\n",
    "X_categorical_imputed = cat_imputer.fit_transform(X_categorical)\n",
    "\n",
    "# Codificar las variables categóricas usando OneHotEncoding\n",
    "encoder = OneHotEncoder(drop='first', sparse_output=False, handle_unknown='ignore')\n",
    "X_categorical_encoded = encoder.fit_transform(X_categorical_imputed)\n",
    "\n",
    "# Imputar las características numéricas\n",
    "num_imputer = SimpleImputer(strategy='mean')\n",
    "X_numeric_imputed = num_imputer.fit_transform(X_numeric)\n",
    "\n",
    "# Concatenar las características codificadas con las características numéricas imputadas\n",
    "X_imputed = np.concatenate((X_numeric_imputed, X_categorical_encoded), axis=1)\n",
    "\n",
    "# Dividir el conjunto de datos imputado en conjuntos de entrenamiento y prueba\n",
    "X_train_imputed, X_test_imputed, y_train, y_test = train_test_split(X_imputed, y, test_size=0.2, random_state=42)\n"
   ]
  },
  {
   "cell_type": "code",
   "execution_count": 26,
   "id": "dc00693e-c3ce-45bf-967d-39ccddda75e5",
   "metadata": {
    "tags": []
   },
   "outputs": [
    {
     "name": "stdout",
     "output_type": "stream",
     "text": [
      "Accuracy: 0.8410210479175997\n",
      "Classification Report:\n",
      "              precision    recall  f1-score   support\n",
      "\n",
      "          no       0.87      0.82      0.84      1166\n",
      "         yes       0.81      0.86      0.84      1067\n",
      "\n",
      "    accuracy                           0.84      2233\n",
      "   macro avg       0.84      0.84      0.84      2233\n",
      "weighted avg       0.84      0.84      0.84      2233\n",
      "\n"
     ]
    }
   ],
   "source": [
    "from sklearn.metrics import accuracy_score, classification_report\n",
    "\n",
    "# Entrenar el modelo RandomForestClassifier con los datos imputados y codificados\n",
    "clf = RandomForestClassifier(random_state=42)\n",
    "clf.fit(X_train_imputed, y_train)\n",
    "\n",
    "# Predecir en el conjunto de prueba\n",
    "y_pred = clf.predict(X_test_imputed)\n",
    "\n",
    "# Evaluar el rendimiento del modelo\n",
    "accuracy = accuracy_score(y_test, y_pred)\n",
    "print(\"Accuracy:\", accuracy)\n",
    "\n",
    "# Mostrar el reporte de clasificación\n",
    "report = classification_report(y_test, y_pred)\n",
    "print(\"Classification Report:\")\n",
    "print(report)\n",
    "\n"
   ]
  },
  {
   "cell_type": "markdown",
   "id": "8fc92a95-fb5b-4911-b50b-245b0face1f6",
   "metadata": {
    "tags": []
   },
   "source": [
    "# Preparación del modelo"
   ]
  },
  {
   "cell_type": "code",
   "execution_count": 27,
   "id": "2ee4b52b-2a6e-46bc-ae4b-d15bf96088bb",
   "metadata": {
    "tags": []
   },
   "outputs": [],
   "source": [
    "feature_importances = clf.feature_importances_"
   ]
  },
  {
   "cell_type": "code",
   "execution_count": 29,
   "id": "ed3d5d63-41ec-4b9e-b9a6-7e0d8c9e7494",
   "metadata": {
    "tags": []
   },
   "outputs": [],
   "source": [
    "feature_importances = clf.feature_importances_\n",
    "#print(feature_importances)"
   ]
  },
  {
   "cell_type": "markdown",
   "id": "b84fe137-aba9-4c1d-9bf9-c0eb4a517037",
   "metadata": {},
   "source": [
    "# Optimización del Modelo"
   ]
  },
  {
   "cell_type": "code",
   "execution_count": 31,
   "id": "571c8fdd-3149-483b-9538-71e25e214609",
   "metadata": {
    "tags": []
   },
   "outputs": [],
   "source": [
    "# Definir la cuadrícula de hiperparámetros\n",
    "param_grid = {\n",
    "    'n_estimators': [100, 200, 300],\n",
    "    'max_depth': [None, 10, 20],\n",
    "    'min_samples_split': [2, 5, 10],\n",
    "    'min_samples_leaf': [1, 2, 4]\n",
    "}\n"
   ]
  },
  {
   "cell_type": "code",
   "execution_count": 32,
   "id": "a413fad2-7369-494b-898c-48fd72e2a96e",
   "metadata": {
    "tags": []
   },
   "outputs": [],
   "source": [
    "# Instanciar el modelo con GridSearchCV\n",
    "grid_search = GridSearchCV(RandomForestClassifier(random_state=42), param_grid, cv=5, scoring='accuracy')"
   ]
  },
  {
   "cell_type": "code",
   "execution_count": 33,
   "id": "cae7f1a8-43dd-4dcb-8992-42c9cf61b801",
   "metadata": {
    "tags": []
   },
   "outputs": [
    {
     "data": {
      "text/html": [
       "<style>#sk-container-id-1 {color: black;}#sk-container-id-1 pre{padding: 0;}#sk-container-id-1 div.sk-toggleable {background-color: white;}#sk-container-id-1 label.sk-toggleable__label {cursor: pointer;display: block;width: 100%;margin-bottom: 0;padding: 0.3em;box-sizing: border-box;text-align: center;}#sk-container-id-1 label.sk-toggleable__label-arrow:before {content: \"▸\";float: left;margin-right: 0.25em;color: #696969;}#sk-container-id-1 label.sk-toggleable__label-arrow:hover:before {color: black;}#sk-container-id-1 div.sk-estimator:hover label.sk-toggleable__label-arrow:before {color: black;}#sk-container-id-1 div.sk-toggleable__content {max-height: 0;max-width: 0;overflow: hidden;text-align: left;background-color: #f0f8ff;}#sk-container-id-1 div.sk-toggleable__content pre {margin: 0.2em;color: black;border-radius: 0.25em;background-color: #f0f8ff;}#sk-container-id-1 input.sk-toggleable__control:checked~div.sk-toggleable__content {max-height: 200px;max-width: 100%;overflow: auto;}#sk-container-id-1 input.sk-toggleable__control:checked~label.sk-toggleable__label-arrow:before {content: \"▾\";}#sk-container-id-1 div.sk-estimator input.sk-toggleable__control:checked~label.sk-toggleable__label {background-color: #d4ebff;}#sk-container-id-1 div.sk-label input.sk-toggleable__control:checked~label.sk-toggleable__label {background-color: #d4ebff;}#sk-container-id-1 input.sk-hidden--visually {border: 0;clip: rect(1px 1px 1px 1px);clip: rect(1px, 1px, 1px, 1px);height: 1px;margin: -1px;overflow: hidden;padding: 0;position: absolute;width: 1px;}#sk-container-id-1 div.sk-estimator {font-family: monospace;background-color: #f0f8ff;border: 1px dotted black;border-radius: 0.25em;box-sizing: border-box;margin-bottom: 0.5em;}#sk-container-id-1 div.sk-estimator:hover {background-color: #d4ebff;}#sk-container-id-1 div.sk-parallel-item::after {content: \"\";width: 100%;border-bottom: 1px solid gray;flex-grow: 1;}#sk-container-id-1 div.sk-label:hover label.sk-toggleable__label {background-color: #d4ebff;}#sk-container-id-1 div.sk-serial::before {content: \"\";position: absolute;border-left: 1px solid gray;box-sizing: border-box;top: 0;bottom: 0;left: 50%;z-index: 0;}#sk-container-id-1 div.sk-serial {display: flex;flex-direction: column;align-items: center;background-color: white;padding-right: 0.2em;padding-left: 0.2em;position: relative;}#sk-container-id-1 div.sk-item {position: relative;z-index: 1;}#sk-container-id-1 div.sk-parallel {display: flex;align-items: stretch;justify-content: center;background-color: white;position: relative;}#sk-container-id-1 div.sk-item::before, #sk-container-id-1 div.sk-parallel-item::before {content: \"\";position: absolute;border-left: 1px solid gray;box-sizing: border-box;top: 0;bottom: 0;left: 50%;z-index: -1;}#sk-container-id-1 div.sk-parallel-item {display: flex;flex-direction: column;z-index: 1;position: relative;background-color: white;}#sk-container-id-1 div.sk-parallel-item:first-child::after {align-self: flex-end;width: 50%;}#sk-container-id-1 div.sk-parallel-item:last-child::after {align-self: flex-start;width: 50%;}#sk-container-id-1 div.sk-parallel-item:only-child::after {width: 0;}#sk-container-id-1 div.sk-dashed-wrapped {border: 1px dashed gray;margin: 0 0.4em 0.5em 0.4em;box-sizing: border-box;padding-bottom: 0.4em;background-color: white;}#sk-container-id-1 div.sk-label label {font-family: monospace;font-weight: bold;display: inline-block;line-height: 1.2em;}#sk-container-id-1 div.sk-label-container {text-align: center;}#sk-container-id-1 div.sk-container {/* jupyter's `normalize.less` sets `[hidden] { display: none; }` but bootstrap.min.css set `[hidden] { display: none !important; }` so we also need the `!important` here to be able to override the default hidden behavior on the sphinx rendered scikit-learn.org. See: https://github.com/scikit-learn/scikit-learn/issues/21755 */display: inline-block !important;position: relative;}#sk-container-id-1 div.sk-text-repr-fallback {display: none;}</style><div id=\"sk-container-id-1\" class=\"sk-top-container\"><div class=\"sk-text-repr-fallback\"><pre>GridSearchCV(cv=5, estimator=RandomForestClassifier(random_state=42),\n",
       "             param_grid={&#x27;max_depth&#x27;: [None, 10, 20],\n",
       "                         &#x27;min_samples_leaf&#x27;: [1, 2, 4],\n",
       "                         &#x27;min_samples_split&#x27;: [2, 5, 10],\n",
       "                         &#x27;n_estimators&#x27;: [100, 200, 300]},\n",
       "             scoring=&#x27;accuracy&#x27;)</pre><b>In a Jupyter environment, please rerun this cell to show the HTML representation or trust the notebook. <br />On GitHub, the HTML representation is unable to render, please try loading this page with nbviewer.org.</b></div><div class=\"sk-container\" hidden><div class=\"sk-item sk-dashed-wrapped\"><div class=\"sk-label-container\"><div class=\"sk-label sk-toggleable\"><input class=\"sk-toggleable__control sk-hidden--visually\" id=\"sk-estimator-id-1\" type=\"checkbox\" ><label for=\"sk-estimator-id-1\" class=\"sk-toggleable__label sk-toggleable__label-arrow\">GridSearchCV</label><div class=\"sk-toggleable__content\"><pre>GridSearchCV(cv=5, estimator=RandomForestClassifier(random_state=42),\n",
       "             param_grid={&#x27;max_depth&#x27;: [None, 10, 20],\n",
       "                         &#x27;min_samples_leaf&#x27;: [1, 2, 4],\n",
       "                         &#x27;min_samples_split&#x27;: [2, 5, 10],\n",
       "                         &#x27;n_estimators&#x27;: [100, 200, 300]},\n",
       "             scoring=&#x27;accuracy&#x27;)</pre></div></div></div><div class=\"sk-parallel\"><div class=\"sk-parallel-item\"><div class=\"sk-item\"><div class=\"sk-label-container\"><div class=\"sk-label sk-toggleable\"><input class=\"sk-toggleable__control sk-hidden--visually\" id=\"sk-estimator-id-2\" type=\"checkbox\" ><label for=\"sk-estimator-id-2\" class=\"sk-toggleable__label sk-toggleable__label-arrow\">estimator: RandomForestClassifier</label><div class=\"sk-toggleable__content\"><pre>RandomForestClassifier(random_state=42)</pre></div></div></div><div class=\"sk-serial\"><div class=\"sk-item\"><div class=\"sk-estimator sk-toggleable\"><input class=\"sk-toggleable__control sk-hidden--visually\" id=\"sk-estimator-id-3\" type=\"checkbox\" ><label for=\"sk-estimator-id-3\" class=\"sk-toggleable__label sk-toggleable__label-arrow\">RandomForestClassifier</label><div class=\"sk-toggleable__content\"><pre>RandomForestClassifier(random_state=42)</pre></div></div></div></div></div></div></div></div></div></div>"
      ],
      "text/plain": [
       "GridSearchCV(cv=5, estimator=RandomForestClassifier(random_state=42),\n",
       "             param_grid={'max_depth': [None, 10, 20],\n",
       "                         'min_samples_leaf': [1, 2, 4],\n",
       "                         'min_samples_split': [2, 5, 10],\n",
       "                         'n_estimators': [100, 200, 300]},\n",
       "             scoring='accuracy')"
      ]
     },
     "execution_count": 33,
     "metadata": {},
     "output_type": "execute_result"
    }
   ],
   "source": [
    "# Ajustar el modelo\n",
    "grid_search.fit(X_train_imputed, y_train)"
   ]
  },
  {
   "cell_type": "code",
   "execution_count": 34,
   "id": "993eb512-d7ea-4d05-8368-13672134cb1b",
   "metadata": {
    "tags": []
   },
   "outputs": [],
   "source": [
    "# Obtener el mejor estimador\n",
    "best_clf = grid_search.best_estimator_"
   ]
  },
  {
   "cell_type": "code",
   "execution_count": 35,
   "id": "381e89b8-f2f8-477e-82f8-b4c86d0ed49c",
   "metadata": {
    "tags": []
   },
   "outputs": [
    {
     "name": "stdout",
     "output_type": "stream",
     "text": [
      "Best Parameters: {'max_depth': None, 'min_samples_leaf': 1, 'min_samples_split': 5, 'n_estimators': 300}\n"
     ]
    }
   ],
   "source": [
    "# Mostrar los mejores parámetros\n",
    "print(\"Best Parameters:\", grid_search.best_params_)"
   ]
  },
  {
   "cell_type": "code",
   "execution_count": 36,
   "id": "dcadf043-fff9-414a-8fa4-24f7224faae7",
   "metadata": {
    "tags": []
   },
   "outputs": [
    {
     "name": "stdout",
     "output_type": "stream",
     "text": [
      "Best Accuracy: 0.8410210479175997\n"
     ]
    }
   ],
   "source": [
    "# Evaluar el modelo con los mejores parámetros\n",
    "y_pred_best = best_clf.predict(X_test_imputed)\n",
    "accuracy_best = accuracy_score(y_test, y_pred_best)\n",
    "print(\"Best Accuracy:\", accuracy_best)"
   ]
  },
  {
   "cell_type": "markdown",
   "id": "68b11492-d79a-4857-be4c-92936b267445",
   "metadata": {},
   "source": [
    "# Validación Cruzada"
   ]
  },
  {
   "cell_type": "code",
   "execution_count": 38,
   "id": "b3c2256d-2aaa-4e05-890d-c08397f4c12e",
   "metadata": {
    "tags": []
   },
   "outputs": [],
   "source": [
    "# Realizar validación cruzada\n",
    "cv_scores = cross_val_score(clf, X_imputed, y, cv=5)"
   ]
  },
  {
   "cell_type": "code",
   "execution_count": 39,
   "id": "470f212d-ccfb-4a04-8c5f-76f077491cad",
   "metadata": {
    "tags": []
   },
   "outputs": [
    {
     "name": "stdout",
     "output_type": "stream",
     "text": [
      "Cross Validation Scores: [0.72816838 0.75459024 0.81810036 0.86648746 0.84498208]\n",
      "Mean CV Accuracy: 0.8024657026325548\n"
     ]
    }
   ],
   "source": [
    "# Mostrar los puntajes de validación cruzada\n",
    "print(\"Cross Validation Scores:\", cv_scores)\n",
    "print(\"Mean CV Accuracy:\", cv_scores.mean())"
   ]
  },
  {
   "cell_type": "markdown",
   "id": "4ff28f64-54f2-4dc3-87fa-f1e6dbfdcbff",
   "metadata": {},
   "source": [
    "# Interpreación"
   ]
  },
  {
   "cell_type": "code",
   "execution_count": 40,
   "id": "691a9a9b-b134-4a8a-8fa9-c4a63f2d6d29",
   "metadata": {
    "tags": []
   },
   "outputs": [],
   "source": [
    "# Realizar validación cruzada\n",
    "cv_scores = cross_val_score(clf, X_imputed, y, cv=5)"
   ]
  },
  {
   "cell_type": "code",
   "execution_count": 41,
   "id": "64e9d500-6cbc-4795-a905-338bb1a69c51",
   "metadata": {
    "tags": []
   },
   "outputs": [],
   "source": [
    "# Calcular la precisión media de la validación cruzada\n",
    "mean_cv_accuracy = cv_scores.mean()"
   ]
  },
  {
   "cell_type": "code",
   "execution_count": 56,
   "id": "0bf55faf-e857-46ea-971c-c4752009de46",
   "metadata": {
    "tags": []
   },
   "outputs": [],
   "source": [
    "# Crear una matriz de decisiones para determinar el comentario\n",
    "if mean_cv_accuracy >= 0.85:\n",
    "    if all(score >= 0.85 for score in cv_scores):\n",
    "        comentario = f\"Al tener una precisión media de {mean_cv_accuracy:.2f} y puntajes de validación cruzada consistentemente altos, el rendimiento del modelo es excelente. Se puede confiar en él para predecir la suscripción de depósitos a plazo.\"\n",
    "    else:\n",
    "        comentario = f\"A pesar de tener una precisión media de {mean_cv_accuracy:.2f}, algunos pliegues tienen puntajes de validación cruzada más bajos. Aunque el rendimiento general es bueno, se recomienda revisar esos pliegues y considerar posibles mejoras en esas áreas.\"\n",
    "elif 0.75 <= mean_cv_accuracy < 0.85:\n",
    "    if all(score >= 0.75 for score in cv_scores):\n",
    "        comentario = f\"Con una precisión media de {mean_cv_accuracy:.2f} y puntajes de validación cruzada aceptables, el rendimiento del modelo es aceptable. Aunque no es excelente, sigue siendo útil para predecir la suscripción de depósitos a plazo.\"\n",
    "    else:\n",
    "        comentario = f\"Aunque la precisión media es de {mean_cv_accuracy:.2f}, algunos pliegues tienen puntajes de validación cruzada por debajo del umbral de aceptabilidad. Se recomienda revisar esos pliegues específicos y considerar estrategias para mejorar el rendimiento en esas áreas.\"\n",
    "else:\n",
    "    comentario = f\"El rendimiento del modelo es insatisfactorio, con una precisión media de {mean_cv_accuracy:.2f}. Se requieren mejoras significativas para hacer predicciones confiables sobre la suscripción de depósitos a plazo. Se recomienda una revisión exhaustiva del modelo y una posible inclusión de más datos o características relevantes.\"\n"
   ]
  },
  {
   "cell_type": "code",
   "execution_count": 57,
   "id": "cab006d1-14f0-43b6-84ad-dfe29a4ed2a9",
   "metadata": {
    "tags": []
   },
   "outputs": [
    {
     "name": "stdout",
     "output_type": "stream",
     "text": [
      "\n",
      "\u001b[1mCOMENTARIO SOBRE EL ESTADO DEL MODELO:\u001b[0m\n",
      "AUNQUE LA PRECISIÓN MEDIA ES DE 0.80, ALGUNOS PLIEGUES TIENEN PUNTAJES DE VALIDACIÓN CRUZADA POR DEBAJO DEL UMBRAL DE ACEPTABILIDAD. SE RECOMIENDA REVISAR ESOS PLIEGUES ESPECÍFICOS Y CONSIDERAR ESTRATEGIAS PARA MEJORAR EL RENDIMIENTO EN ESAS ÁREAS.\n"
     ]
    }
   ],
   "source": [
    "# Mostrar el comentario\n",
    "print(\"\\n\\033[1mCOMENTARIO SOBRE EL ESTADO DEL MODELO:\\033[0m\")\n",
    "print(comentario.upper())"
   ]
  }
 ],
 "metadata": {
  "kernelspec": {
   "display_name": "Python 3 (ipykernel)",
   "language": "python",
   "name": "python3"
  },
  "language_info": {
   "codemirror_mode": {
    "name": "ipython",
    "version": 3
   },
   "file_extension": ".py",
   "mimetype": "text/x-python",
   "name": "python",
   "nbconvert_exporter": "python",
   "pygments_lexer": "ipython3",
   "version": "3.11.5"
  }
 },
 "nbformat": 4,
 "nbformat_minor": 5
}
